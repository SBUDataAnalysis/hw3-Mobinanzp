{
  "cells": [
    {
      "cell_type": "code",
      "execution_count": 1,
      "id": "b031e468",
      "metadata": {
        "id": "b031e468"
      },
      "outputs": [],
      "source": [
        "import numpy as np\n",
        "import matplotlib.pyplot as plt"
      ]
    },
    {
      "cell_type": "markdown",
      "id": "38f35f8c",
      "metadata": {
        "id": "38f35f8c"
      },
      "source": [
        "# Q1: Coin toss\n",
        "\n",
        "Read section 2.1 of Sivia and recreate figure 2.3."
      ]
    },
    {
      "cell_type": "markdown",
      "id": "901a6a55",
      "metadata": {
        "id": "901a6a55"
      },
      "source": [
        "## (a)\n",
        "\n",
        "Define the prior functions"
      ]
    },
    {
      "cell_type": "code",
      "execution_count": 2,
      "id": "ac224d2c",
      "metadata": {
        "id": "ac224d2c",
        "outputId": "c7ed96e4-19dc-4a80-f0e8-8af04a2bca66",
        "colab": {
          "base_uri": "https://localhost:8080/"
        }
      },
      "outputs": [
        {
          "output_type": "execute_result",
          "data": {
            "text/plain": [
              "Ellipsis"
            ]
          },
          "metadata": {},
          "execution_count": 2
        }
      ],
      "source": [
        "def uniform_prior(H):\n",
        "    if  H > 1 or H < 0:\n",
        "        return 0\n",
        "    \n",
        "    return 1\n",
        "    \n",
        "first_prior = np.vectorize(uniform_prior)\n",
        "    \n",
        "\n",
        "def gaussian_prior(H):\n",
        "    if  H > 1 or H < 0:\n",
        "        return 0\n",
        "    \n",
        "    \n",
        "    sigma = 0.03\n",
        "    mu = 0.5\n",
        "    \n",
        "    return ...\n",
        "\n",
        "second_prior = ...\n",
        "\n",
        "\n",
        "def third_prior(H):\n",
        "    ...\n",
        "\n",
        "..."
      ]
    },
    {
      "cell_type": "markdown",
      "id": "679e9a44",
      "metadata": {
        "id": "679e9a44"
      },
      "source": [
        "### Bonus point\n",
        "\n",
        "Why do we need to use np.vectorize here?"
      ]
    },
    {
      "cell_type": "markdown",
      "id": "cb796055",
      "metadata": {
        "id": "cb796055"
      },
      "source": [
        "## (b)\n",
        "\n",
        "Create an array for H, calculte the priors, normalize them and then plot them."
      ]
    },
    {
      "cell_type": "code",
      "execution_count": 3,
      "id": "7bd4031a",
      "metadata": {
        "id": "7bd4031a"
      },
      "outputs": [],
      "source": [
        "H = np.linspace(0, 1, 1000, dtype=np.float128)"
      ]
    },
    {
      "cell_type": "code",
      "execution_count": 4,
      "id": "2ca16052",
      "metadata": {
        "id": "2ca16052",
        "outputId": "82defd91-a64c-4732-a445-c691f6f3ec8d",
        "colab": {
          "base_uri": "https://localhost:8080/",
          "height": 397
        }
      },
      "outputs": [
        {
          "output_type": "error",
          "ename": "TypeError",
          "evalue": "ignored",
          "traceback": [
            "\u001b[0;31m---------------------------------------------------------------------------\u001b[0m",
            "\u001b[0;31mTypeError\u001b[0m                                 Traceback (most recent call last)",
            "\u001b[0;32m<ipython-input-4-a9b020a50e46>\u001b[0m in \u001b[0;36m<module>\u001b[0;34m()\u001b[0m\n\u001b[1;32m      2\u001b[0m \u001b[0mplt\u001b[0m\u001b[0;34m.\u001b[0m\u001b[0msuptitle\u001b[0m\u001b[0;34m(\u001b[0m\u001b[0;34m'Three different priors (Normalized)'\u001b[0m\u001b[0;34m)\u001b[0m\u001b[0;34m\u001b[0m\u001b[0;34m\u001b[0m\u001b[0m\n\u001b[1;32m      3\u001b[0m \u001b[0;34m\u001b[0m\u001b[0m\n\u001b[0;32m----> 4\u001b[0;31m \u001b[0mplt\u001b[0m\u001b[0;34m.\u001b[0m\u001b[0msubplot\u001b[0m\u001b[0;34m(\u001b[0m\u001b[0;34m...\u001b[0m\u001b[0;34m)\u001b[0m\u001b[0;34m\u001b[0m\u001b[0;34m\u001b[0m\u001b[0m\n\u001b[0m\u001b[1;32m      5\u001b[0m \u001b[0;34m\u001b[0m\u001b[0m\n\u001b[1;32m      6\u001b[0m \u001b[0;34m...\u001b[0m\u001b[0;34m\u001b[0m\u001b[0;34m\u001b[0m\u001b[0m\n",
            "\u001b[0;32m/usr/local/lib/python3.7/dist-packages/matplotlib/pyplot.py\u001b[0m in \u001b[0;36msubplot\u001b[0;34m(*args, **kwargs)\u001b[0m\n\u001b[1;32m   1028\u001b[0m \u001b[0;34m\u001b[0m\u001b[0m\n\u001b[1;32m   1029\u001b[0m     \u001b[0mfig\u001b[0m \u001b[0;34m=\u001b[0m \u001b[0mgcf\u001b[0m\u001b[0;34m(\u001b[0m\u001b[0;34m)\u001b[0m\u001b[0;34m\u001b[0m\u001b[0;34m\u001b[0m\u001b[0m\n\u001b[0;32m-> 1030\u001b[0;31m     \u001b[0ma\u001b[0m \u001b[0;34m=\u001b[0m \u001b[0mfig\u001b[0m\u001b[0;34m.\u001b[0m\u001b[0madd_subplot\u001b[0m\u001b[0;34m(\u001b[0m\u001b[0;34m*\u001b[0m\u001b[0margs\u001b[0m\u001b[0;34m,\u001b[0m \u001b[0;34m**\u001b[0m\u001b[0mkwargs\u001b[0m\u001b[0;34m)\u001b[0m\u001b[0;34m\u001b[0m\u001b[0;34m\u001b[0m\u001b[0m\n\u001b[0m\u001b[1;32m   1031\u001b[0m     \u001b[0mbbox\u001b[0m \u001b[0;34m=\u001b[0m \u001b[0ma\u001b[0m\u001b[0;34m.\u001b[0m\u001b[0mbbox\u001b[0m\u001b[0;34m\u001b[0m\u001b[0;34m\u001b[0m\u001b[0m\n\u001b[1;32m   1032\u001b[0m     \u001b[0mbyebye\u001b[0m \u001b[0;34m=\u001b[0m \u001b[0;34m[\u001b[0m\u001b[0;34m]\u001b[0m\u001b[0;34m\u001b[0m\u001b[0;34m\u001b[0m\u001b[0m\n",
            "\u001b[0;32m/usr/local/lib/python3.7/dist-packages/matplotlib/figure.py\u001b[0m in \u001b[0;36madd_subplot\u001b[0;34m(self, *args, **kwargs)\u001b[0m\n\u001b[1;32m   1417\u001b[0m                     \u001b[0mself\u001b[0m\u001b[0;34m.\u001b[0m\u001b[0m_axstack\u001b[0m\u001b[0;34m.\u001b[0m\u001b[0mremove\u001b[0m\u001b[0;34m(\u001b[0m\u001b[0max\u001b[0m\u001b[0;34m)\u001b[0m\u001b[0;34m\u001b[0m\u001b[0;34m\u001b[0m\u001b[0m\n\u001b[1;32m   1418\u001b[0m \u001b[0;34m\u001b[0m\u001b[0m\n\u001b[0;32m-> 1419\u001b[0;31m             \u001b[0ma\u001b[0m \u001b[0;34m=\u001b[0m \u001b[0msubplot_class_factory\u001b[0m\u001b[0;34m(\u001b[0m\u001b[0mprojection_class\u001b[0m\u001b[0;34m)\u001b[0m\u001b[0;34m(\u001b[0m\u001b[0mself\u001b[0m\u001b[0;34m,\u001b[0m \u001b[0;34m*\u001b[0m\u001b[0margs\u001b[0m\u001b[0;34m,\u001b[0m \u001b[0;34m**\u001b[0m\u001b[0mkwargs\u001b[0m\u001b[0;34m)\u001b[0m\u001b[0;34m\u001b[0m\u001b[0;34m\u001b[0m\u001b[0m\n\u001b[0m\u001b[1;32m   1420\u001b[0m \u001b[0;34m\u001b[0m\u001b[0m\n\u001b[1;32m   1421\u001b[0m         \u001b[0;32mreturn\u001b[0m \u001b[0mself\u001b[0m\u001b[0;34m.\u001b[0m\u001b[0m_add_axes_internal\u001b[0m\u001b[0;34m(\u001b[0m\u001b[0mkey\u001b[0m\u001b[0;34m,\u001b[0m \u001b[0ma\u001b[0m\u001b[0;34m)\u001b[0m\u001b[0;34m\u001b[0m\u001b[0;34m\u001b[0m\u001b[0m\n",
            "\u001b[0;32m/usr/local/lib/python3.7/dist-packages/matplotlib/axes/_subplots.py\u001b[0m in \u001b[0;36m__init__\u001b[0;34m(self, fig, *args, **kwargs)\u001b[0m\n\u001b[1;32m     40\u001b[0m             \u001b[0;32melse\u001b[0m\u001b[0;34m:\u001b[0m\u001b[0;34m\u001b[0m\u001b[0;34m\u001b[0m\u001b[0m\n\u001b[1;32m     41\u001b[0m                 \u001b[0;32mtry\u001b[0m\u001b[0;34m:\u001b[0m\u001b[0;34m\u001b[0m\u001b[0;34m\u001b[0m\u001b[0m\n\u001b[0;32m---> 42\u001b[0;31m                     \u001b[0ms\u001b[0m \u001b[0;34m=\u001b[0m \u001b[0mstr\u001b[0m\u001b[0;34m(\u001b[0m\u001b[0mint\u001b[0m\u001b[0;34m(\u001b[0m\u001b[0margs\u001b[0m\u001b[0;34m[\u001b[0m\u001b[0;36m0\u001b[0m\u001b[0;34m]\u001b[0m\u001b[0;34m)\u001b[0m\u001b[0;34m)\u001b[0m\u001b[0;34m\u001b[0m\u001b[0;34m\u001b[0m\u001b[0m\n\u001b[0m\u001b[1;32m     43\u001b[0m                     \u001b[0mrows\u001b[0m\u001b[0;34m,\u001b[0m \u001b[0mcols\u001b[0m\u001b[0;34m,\u001b[0m \u001b[0mnum\u001b[0m \u001b[0;34m=\u001b[0m \u001b[0mmap\u001b[0m\u001b[0;34m(\u001b[0m\u001b[0mint\u001b[0m\u001b[0;34m,\u001b[0m \u001b[0ms\u001b[0m\u001b[0;34m)\u001b[0m\u001b[0;34m\u001b[0m\u001b[0;34m\u001b[0m\u001b[0m\n\u001b[1;32m     44\u001b[0m                 \u001b[0;32mexcept\u001b[0m \u001b[0mValueError\u001b[0m\u001b[0;34m:\u001b[0m\u001b[0;34m\u001b[0m\u001b[0;34m\u001b[0m\u001b[0m\n",
            "\u001b[0;31mTypeError\u001b[0m: int() argument must be a string, a bytes-like object or a number, not 'ellipsis'"
          ]
        },
        {
          "output_type": "display_data",
          "data": {
            "text/plain": [
              "<Figure size 1080x216 with 0 Axes>"
            ]
          },
          "metadata": {}
        }
      ],
      "source": [
        "plt.figure(figsize=(15, 3))\n",
        "plt.suptitle('Three different priors (Normalized)')\n",
        "\n",
        "plt.subplot(...)\n",
        "\n",
        "...\n",
        "\n",
        "plt.show()"
      ]
    },
    {
      "cell_type": "markdown",
      "id": "c759449a",
      "metadata": {
        "id": "c759449a"
      },
      "source": [
        "## (c)\n",
        "\n",
        "Here we explicitly declared a data type for the array H. Although most of the times python does it for us, here was an example that we need to do it by hand to avoid round-off error. Find out what this error is and write a few lines about it (In Farsi or English) and explain what did we do to avoid it here. In other words, why did we use 'np.float128' exept just using 'float'?\n",
        "\n",
        "You can also emit the data type decleration from the definition of H and see what happens in calculating the posterior."
      ]
    },
    {
      "cell_type": "markdown",
      "id": "776585bc",
      "metadata": {
        "id": "776585bc"
      },
      "source": [
        ""
      ]
    },
    {
      "cell_type": "markdown",
      "id": "507a17d4",
      "metadata": {
        "id": "507a17d4"
      },
      "source": [
        "## (d)\n",
        "\n",
        "Write a proper function to calculate the psterior for a given data and recreate the given plot."
      ]
    },
    {
      "cell_type": "code",
      "execution_count": null,
      "id": "464cdb0d",
      "metadata": {
        "id": "464cdb0d"
      },
      "outputs": [],
      "source": [
        "data = [np.random.choice([0, 0, 0, 0, 0, 0, 0, 1, 1, 1], size=(i)) for i in range(4)]  \n",
        "data.extend([np.random.choice([0, 0, 0, 0, 0, 0, 0, 1, 1, 1], size=(2**i)) for i in range(2, 13)])"
      ]
    },
    {
      "cell_type": "code",
      "execution_count": null,
      "id": "1e4f87bb",
      "metadata": {
        "id": "1e4f87bb"
      },
      "outputs": [],
      "source": [
        "def posterior(...):\n",
        "    ones = ...\n",
        "    zeros = ...\n",
        "    \n",
        "    ...\n",
        "    \n",
        "    return ..."
      ]
    },
    {
      "cell_type": "code",
      "execution_count": null,
      "id": "996c86e6",
      "metadata": {
        "id": "996c86e6"
      },
      "outputs": [],
      "source": [
        "plt.figure(figsize=(15, 15))\n",
        "\n",
        "\n",
        "for i in range(15):\n",
        "    ...\n",
        "    \n",
        "    \n",
        "plt.tight_layout(h_pad=3)\n",
        "plt.show()"
      ]
    },
    {
      "cell_type": "markdown",
      "id": "7fe4e917",
      "metadata": {
        "id": "7fe4e917"
      },
      "source": [
        "# Q2: Distributions and moments"
      ]
    },
    {
      "cell_type": "markdown",
      "id": "22528f29",
      "metadata": {
        "id": "22528f29"
      },
      "source": [
        "## (a)\n",
        "\n",
        "Write a function to calculate raw moments of a given distribution "
      ]
    },
    {
      "cell_type": "code",
      "execution_count": 11,
      "id": "0ca8f424",
      "metadata": {
        "id": "0ca8f424"
      },
      "outputs": [],
      "source": [
        "import numpy as np\n",
        "def raw_moment_n(data, n):\n",
        "    return np.sum(np.array(data)**n) / len(data)"
      ]
    },
    {
      "cell_type": "markdown",
      "id": "83e7a025",
      "metadata": {
        "id": "83e7a025"
      },
      "source": [
        "## (b)\n",
        "\n",
        "Write a function to calculate central moments of a given distribution"
      ]
    },
    {
      "cell_type": "code",
      "execution_count": 12,
      "id": "e95d8546",
      "metadata": {
        "id": "e95d8546"
      },
      "outputs": [],
      "source": [
        "def central_moment_n(data, n):\n",
        "    return np.sum((np.array(data) - np.mean(data))**n) / len(data)"
      ]
    },
    {
      "cell_type": "markdown",
      "id": "c922c313",
      "metadata": {
        "id": "c922c313"
      },
      "source": [
        "## (c)\n",
        "\n",
        "Using numpy.random, create a binomial (p=0.7, n=$30$), a Poisson ($\\mu$ = 2.1) and a gaussian ($\\mu$ = 2.1, $\\sigma = 0.3$) distribution with size $10^6$ and calculate their first 3 raw and central moments"
      ]
    },
    {
      "cell_type": "code",
      "execution_count": 16,
      "id": "d8a9b33d",
      "metadata": {
        "id": "d8a9b33d",
        "outputId": "b0bb1124-b752-47a6-8186-498da76e99c2",
        "colab": {
          "base_uri": "https://localhost:8080/"
        }
      },
      "outputs": [
        {
          "output_type": "stream",
          "name": "stdout",
          "text": [
            "Binomial raw moment 1 is 21.000321\n",
            "Binomial raw moment 2 is 447.308145\n",
            "Binomial raw moment 3 is 9655.449903\n",
            "Binomial central moment 1 is 4.283720045350492e-16\n",
            "Binomial central moment 2 is 6.294662896959002\n",
            "Binomial central moment 3 is -2.5446107604028407\n",
            "Poisson raw moment 1 is 2.10148\n",
            "Poisson raw moment 2 is 6.519916\n",
            "Poisson raw moment 3 is 24.670504\n",
            "Poison central moment 1 is -1.0255263305225526e-16\n",
            "Poison central moment 2 is 2.1036978096\n",
            "Poison central moment 3 is 2.127273178483583\n",
            "guassion raw moment 1 is 2.1000791390676095\n",
            "guassion raw moment 2 is 4.500356555442601\n",
            "guassion raw moment 3 is 9.829163267183676\n",
            "guassion central moment 1 is -4.744222792396613e-16\n",
            "guassion central moment 2 is 0.09002416509565289\n",
            "guassion central moment 3 is -5.739552621648784e-05\n"
          ]
        }
      ],
      "source": [
        "b = np.random.binomial(30, 0.7, 10**6)\n",
        "p = np.random.poisson(2.1, 10**6)\n",
        "g = np.random.normal(2.1, 0.3, 10**6)\n",
        "\n",
        "for i in range(1,4):\n",
        "  print(\"Binomial raw moment\",i,\"is\",raw_moment_n(b,i))\n",
        "\n",
        "for j in range(1,4):\n",
        "  print(\"Binomial central moment\", j, \"is\", central_moment_n(b,j))\n",
        "\n",
        "for i in range(1,4):\n",
        "  print(\"Poisson raw moment\",i,\"is\",raw_moment_n(p,i))\n",
        "\n",
        "for j in range(1,4):\n",
        "  print(\"Poison central moment\", j, \"is\", central_moment_n(p,j)) \n",
        "\n",
        "for i in range(1,4):\n",
        "  print(\"guassion raw moment\",i,\"is\",raw_moment_n(g,i))\n",
        "\n",
        "for j in range(1,4):\n",
        "  print(\"guassion central moment\", j, \"is\", central_moment_n(g,j))   "
      ]
    },
    {
      "cell_type": "markdown",
      "id": "0612b1f0",
      "metadata": {
        "id": "0612b1f0"
      },
      "source": [
        "## (d)\n",
        "\n",
        "Using scipy.stats, calculate the first three moments of these distributions and check with the results from your own function. What does the function in scipy calculate? Raw moments or central moments?"
      ]
    },
    {
      "cell_type": "code",
      "execution_count": 17,
      "id": "a6afb3bc",
      "metadata": {
        "id": "a6afb3bc"
      },
      "outputs": [],
      "source": [
        "from scipy import stats"
      ]
    },
    {
      "cell_type": "code",
      "execution_count": 18,
      "id": "3bc32c61",
      "metadata": {
        "id": "3bc32c61",
        "outputId": "0e22736e-de69-4577-a041-b3d1c2020e35",
        "colab": {
          "base_uri": "https://localhost:8080/"
        }
      },
      "outputs": [
        {
          "output_type": "stream",
          "name": "stdout",
          "text": [
            "Binomial moment 1 is 0.0\n",
            "Binomial moment 2 is 6.294662896959002\n",
            "Binomial moment 3 is -2.5446107604028407\n",
            "Poisson moment 1 is 0.0\n",
            "Poisson moment 2 is 2.1036978096\n",
            "Poisson moment 3 is 2.1272731784835828\n",
            "Guassion moment 1 is 0.0\n",
            "Guassion moment 2 is 0.09002416509565289\n",
            "Guassion moment 3 is -5.739552621648779e-05\n"
          ]
        }
      ],
      "source": [
        "for i in range (1,4):\n",
        "    print('Binomial moment', i, 'is', stats.moment(b,i))\n",
        "\n",
        "for i in range (1,4):\n",
        "    print('Poisson moment', i, 'is', stats.moment(p,i))\n",
        "\n",
        "for i in range (1,4):\n",
        "    print('Guassion moment', i, 'is', stats.moment(g,i))"
      ]
    },
    {
      "cell_type": "markdown",
      "source": [
        "it has calculated central moments"
      ],
      "metadata": {
        "id": "_u_OMJQpTz2P"
      },
      "id": "_u_OMJQpTz2P"
    },
    {
      "cell_type": "markdown",
      "id": "6a6e1b2a",
      "metadata": {
        "id": "6a6e1b2a"
      },
      "source": [
        "# Q3: Radioactive decay"
      ]
    },
    {
      "cell_type": "markdown",
      "id": "59bad283",
      "metadata": {
        "id": "59bad283"
      },
      "source": [
        "The Poisson distribution is often used to describe situations in which an event occurs repeatedly at a constant rate of probability. An application of this distribution involves the decay of radioactive samples, but only in the approximation that the decay rate is slow enough that depletion in the population of the decaying species can be neglected.\n",
        "\n",
        "Now suppose we have a data set showing the number of $\\alpha$ particles emmited in 7.5 sec intervals:"
      ]
    },
    {
      "cell_type": "markdown",
      "id": "240168cb",
      "metadata": {
        "id": "240168cb"
      },
      "source": [
        "## (a)\n",
        "\n",
        "Load the provided data into a pandas data frame and show the data and then plot it's PDF."
      ]
    },
    {
      "cell_type": "code",
      "execution_count": 21,
      "id": "68594456",
      "metadata": {
        "id": "68594456"
      },
      "outputs": [],
      "source": [
        "import pandas as pd\n",
        "from pandas import DataFrame, read_csv\n"
      ]
    },
    {
      "cell_type": "code",
      "source": [
        ""
      ],
      "metadata": {
        "id": "sfLZMumYUvnh"
      },
      "id": "sfLZMumYUvnh",
      "execution_count": 24,
      "outputs": []
    },
    {
      "cell_type": "code",
      "execution_count": null,
      "id": "c80b7a07",
      "metadata": {
        "id": "c80b7a07"
      },
      "outputs": [],
      "source": [
        "..."
      ]
    },
    {
      "cell_type": "markdown",
      "id": "2a2aa787",
      "metadata": {
        "id": "2a2aa787"
      },
      "source": [
        "## (b)\n",
        "\n",
        "Calculate total number of decays and the average number of decays after each time interval. Then add the data to the Pandas DataFrame and show it. Then save the data to file 'new_data.txt'."
      ]
    },
    {
      "cell_type": "code",
      "execution_count": null,
      "id": "0740a45a",
      "metadata": {
        "id": "0740a45a"
      },
      "outputs": [],
      "source": [
        ""
      ]
    },
    {
      "cell_type": "markdown",
      "id": "ee6121a6",
      "metadata": {
        "id": "ee6121a6"
      },
      "source": [
        "## (c)\n",
        "\n",
        "Use a unifor prior and do the same analysis as question 1 to get the mean decay number per interval. Plot the diagrams as well. (Beware that this time we have a Poisson distribution rather than a binomial one)"
      ]
    },
    {
      "cell_type": "code",
      "execution_count": null,
      "id": "83017207",
      "metadata": {
        "id": "83017207"
      },
      "outputs": [],
      "source": [
        ""
      ]
    },
    {
      "cell_type": "markdown",
      "id": "bba68702",
      "metadata": {
        "id": "bba68702"
      },
      "source": [
        "## (d)\n",
        "\n",
        "Use two different priors of your choise and repeat the analysis. Which of these three priors leads to an answer sooner?"
      ]
    },
    {
      "cell_type": "code",
      "execution_count": null,
      "id": "00b2f202",
      "metadata": {
        "id": "00b2f202"
      },
      "outputs": [],
      "source": [
        ""
      ]
    },
    {
      "cell_type": "markdown",
      "id": "6509b5b9",
      "metadata": {
        "id": "6509b5b9"
      },
      "source": [
        "## (e)\n",
        "\n",
        "Now that you have the average decay per time interval, calculate the half life of this radioactive element (Suppose that the sample is large enough not to lose a noticable fraction of the particles in the span of the experiment). Can find out what this element is?"
      ]
    },
    {
      "cell_type": "code",
      "execution_count": null,
      "id": "b5162aec",
      "metadata": {
        "id": "b5162aec"
      },
      "outputs": [],
      "source": [
        ""
      ]
    },
    {
      "cell_type": "markdown",
      "id": "21e7e952",
      "metadata": {
        "id": "21e7e952"
      },
      "source": [
        "# Bonus question\n",
        "\n",
        "Do an error analysis and report how sure are you about the number you derived for the half life of the element."
      ]
    },
    {
      "cell_type": "code",
      "execution_count": null,
      "id": "6ea6cd7a",
      "metadata": {
        "id": "6ea6cd7a"
      },
      "outputs": [],
      "source": [
        ""
      ]
    }
  ],
  "metadata": {
    "kernelspec": {
      "display_name": "Python 3 (ipykernel)",
      "language": "python",
      "name": "python3"
    },
    "language_info": {
      "codemirror_mode": {
        "name": "ipython",
        "version": 3
      },
      "file_extension": ".py",
      "mimetype": "text/x-python",
      "name": "python",
      "nbconvert_exporter": "python",
      "pygments_lexer": "ipython3",
      "version": "3.10.2"
    },
    "colab": {
      "name": "Set_03.ipynb",
      "provenance": []
    }
  },
  "nbformat": 4,
  "nbformat_minor": 5
}